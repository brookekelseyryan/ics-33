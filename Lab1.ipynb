{
 "cells": [
  {
   "cell_type": "markdown",
   "metadata": {},
   "source": [
    "# Lab 1\n",
    "# Due 6/26/2022, Sunday, 11:59pm on Canvas"
   ]
  },
  {
   "cell_type": "markdown",
   "metadata": {},
   "source": [
    "### You will get full credits if you submit anything. But I highly encourage you to finish as much as possible."
   ]
  },
  {
   "cell_type": "markdown",
   "metadata": {},
   "source": [
    "1. ComputeDistance(p1,p2)\n",
    "Write a function named ComputeDistance that takes 2 arguments, p1 and p2, which denote point 1 and point 2, respectively. p1 and p2 are both tuples with the form (x,y), with x denoting the x-coordinate value and y denoting the y-coordinate value. The function should return a number that represents the distance between the two points on a Cartesian coordinate system. "
   ]
  },
  {
   "cell_type": "markdown",
   "metadata": {},
   "source": [
    "2. Create a list with five randomly generated numbers. Sort the numbers. Then remove the last element. Then remove the element at index 2. Append another randomly generated number to the end of the list. Print out the list. "
   ]
  },
  {
   "cell_type": "code",
   "execution_count": null,
   "metadata": {},
   "outputs": [],
   "source": []
  }
 ],
 "metadata": {
  "kernelspec": {
   "display_name": "ml",
   "language": "python",
   "name": "ml"
  },
  "language_info": {
   "codemirror_mode": {
    "name": "ipython",
    "version": 3
   },
   "file_extension": ".py",
   "mimetype": "text/x-python",
   "name": "python",
   "nbconvert_exporter": "python",
   "pygments_lexer": "ipython3",
   "version": "3.7.7"
  }
 },
 "nbformat": 4,
 "nbformat_minor": 4
}
